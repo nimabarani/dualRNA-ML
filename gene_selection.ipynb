{
 "cells": [
  {
   "cell_type": "code",
   "execution_count": 1,
   "metadata": {},
   "outputs": [],
   "source": [
    "import pandas as pd"
   ]
  },
  {
   "cell_type": "code",
   "execution_count": 2,
   "metadata": {},
   "outputs": [
    {
     "data": {
      "text/html": [
       "<div>\n",
       "<style scoped>\n",
       "    .dataframe tbody tr th:only-of-type {\n",
       "        vertical-align: middle;\n",
       "    }\n",
       "\n",
       "    .dataframe tbody tr th {\n",
       "        vertical-align: top;\n",
       "    }\n",
       "\n",
       "    .dataframe thead th {\n",
       "        text-align: right;\n",
       "    }\n",
       "</style>\n",
       "<table border=\"1\" class=\"dataframe\">\n",
       "  <thead>\n",
       "    <tr style=\"text-align: right;\">\n",
       "      <th></th>\n",
       "      <th>gene_id</th>\n",
       "      <th>sequence</th>\n",
       "    </tr>\n",
       "  </thead>\n",
       "  <tbody>\n",
       "    <tr>\n",
       "      <th>0</th>\n",
       "      <td>Zfp85</td>\n",
       "      <td>CTCTCTCTTTCTGTATGACCCCGCTAGACAGGACTCTGCTCTCTGT...</td>\n",
       "    </tr>\n",
       "    <tr>\n",
       "      <th>1</th>\n",
       "      <td>Scap</td>\n",
       "      <td>GTTGAGAGGTGAAGGGGCGGGGAGCTGCGCGGGCGCCGGGCGGCCG...</td>\n",
       "    </tr>\n",
       "    <tr>\n",
       "      <th>2</th>\n",
       "      <td>Zfp458</td>\n",
       "      <td>GTCCTGCTCAGAACTGGGCTTGGATCTCTGACATGGAGGACATGTT...</td>\n",
       "    </tr>\n",
       "    <tr>\n",
       "      <th>3</th>\n",
       "      <td>Fbxo41</td>\n",
       "      <td>CTGTCTCCTAGCTGCACCGGGGCCGAGCGCCCCCTCCTATCTCCCC...</td>\n",
       "    </tr>\n",
       "    <tr>\n",
       "      <th>4</th>\n",
       "      <td>Taf9b</td>\n",
       "      <td>CGCTAGGGCGACTTCCTCCGCACCTCTCCACCTCCGAACCTGCATG...</td>\n",
       "    </tr>\n",
       "  </tbody>\n",
       "</table>\n",
       "</div>"
      ],
      "text/plain": [
       "  gene_id                                           sequence\n",
       "0   Zfp85  CTCTCTCTTTCTGTATGACCCCGCTAGACAGGACTCTGCTCTCTGT...\n",
       "1    Scap  GTTGAGAGGTGAAGGGGCGGGGAGCTGCGCGGGCGCCGGGCGGCCG...\n",
       "2  Zfp458  GTCCTGCTCAGAACTGGGCTTGGATCTCTGACATGGAGGACATGTT...\n",
       "3  Fbxo41  CTGTCTCCTAGCTGCACCGGGGCCGAGCGCCCCCTCCTATCTCCCC...\n",
       "4   Taf9b  CGCTAGGGCGACTTCCTCCGCACCTCTCCACCTCCGAACCTGCATG..."
      ]
     },
     "execution_count": 2,
     "metadata": {},
     "output_type": "execute_result"
    }
   ],
   "source": [
    "genes_df = pd.read_csv('../genomes/hosts/GCF_000001635.27/genes/modified_rna.csv', sep='\\t', names=['gene_id', 'sequence'])\n",
    "genes_df.head()"
   ]
  },
  {
   "cell_type": "code",
   "execution_count": 4,
   "metadata": {},
   "outputs": [
    {
     "data": {
      "text/html": [
       "<div>\n",
       "<style scoped>\n",
       "    .dataframe tbody tr th:only-of-type {\n",
       "        vertical-align: middle;\n",
       "    }\n",
       "\n",
       "    .dataframe tbody tr th {\n",
       "        vertical-align: top;\n",
       "    }\n",
       "\n",
       "    .dataframe thead th {\n",
       "        text-align: right;\n",
       "    }\n",
       "</style>\n",
       "<table border=\"1\" class=\"dataframe\">\n",
       "  <thead>\n",
       "    <tr style=\"text-align: right;\">\n",
       "      <th></th>\n",
       "      <th>gene_id</th>\n",
       "      <th>label</th>\n",
       "    </tr>\n",
       "  </thead>\n",
       "  <tbody>\n",
       "    <tr>\n",
       "      <th>0</th>\n",
       "      <td>LOC118567656</td>\n",
       "      <td>nd</td>\n",
       "    </tr>\n",
       "    <tr>\n",
       "      <th>1</th>\n",
       "      <td>Rgs20</td>\n",
       "      <td>up</td>\n",
       "    </tr>\n",
       "    <tr>\n",
       "      <th>2</th>\n",
       "      <td>Gm26901</td>\n",
       "      <td>up</td>\n",
       "    </tr>\n",
       "    <tr>\n",
       "      <th>3</th>\n",
       "      <td>Sntg1</td>\n",
       "      <td>up</td>\n",
       "    </tr>\n",
       "    <tr>\n",
       "      <th>4</th>\n",
       "      <td>Adhfe1</td>\n",
       "      <td>nd</td>\n",
       "    </tr>\n",
       "  </tbody>\n",
       "</table>\n",
       "</div>"
      ],
      "text/plain": [
       "        gene_id label\n",
       "0  LOC118567656    nd\n",
       "1         Rgs20    up\n",
       "2       Gm26901    up\n",
       "3         Sntg1    up\n",
       "4        Adhfe1    nd"
      ]
     },
     "execution_count": 4,
     "metadata": {},
     "output_type": "execute_result"
    }
   ],
   "source": [
    "gene_ids_df = pd.read_csv('/home/nima/projects/def-lpenacas/nima/newDual/genomes/hosts/GCF_000001635.27/genes/gene_ids.csv')\n",
    "gene_ids_df.head()"
   ]
  },
  {
   "cell_type": "code",
   "execution_count": 18,
   "metadata": {},
   "outputs": [
    {
     "name": "stdout",
     "output_type": "stream",
     "text": [
      "(10217, 2)\n",
      "(5687, 2)\n",
      "(2298, 2)\n"
     ]
    }
   ],
   "source": [
    "for label in gene_ids_df['label'].unique():\n",
    "    print(genes_df[genes_df['gene_id'].isin(gene_ids_df[gene_ids_df['label']==label]['gene_id'])].shape)"
   ]
  },
  {
   "cell_type": "code",
   "execution_count": 5,
   "metadata": {},
   "outputs": [
    {
     "data": {
      "text/html": [
       "<div>\n",
       "<style scoped>\n",
       "    .dataframe tbody tr th:only-of-type {\n",
       "        vertical-align: middle;\n",
       "    }\n",
       "\n",
       "    .dataframe tbody tr th {\n",
       "        vertical-align: top;\n",
       "    }\n",
       "\n",
       "    .dataframe thead th {\n",
       "        text-align: right;\n",
       "    }\n",
       "</style>\n",
       "<table border=\"1\" class=\"dataframe\">\n",
       "  <thead>\n",
       "    <tr style=\"text-align: right;\">\n",
       "      <th></th>\n",
       "      <th>gene_id</th>\n",
       "      <th>sequence</th>\n",
       "    </tr>\n",
       "  </thead>\n",
       "  <tbody>\n",
       "    <tr>\n",
       "      <th>8</th>\n",
       "      <td>Zfp941</td>\n",
       "      <td>GCTGGAGCTGGCCATCTTTGGCACCTTTGGGAGCTCCTGCTGTTCT...</td>\n",
       "    </tr>\n",
       "    <tr>\n",
       "      <th>14</th>\n",
       "      <td>Zfp456</td>\n",
       "      <td>CTCTTCCTCAAAGTTGGGCGGAAATGATATTCGGCTATCTATTCCA...</td>\n",
       "    </tr>\n",
       "    <tr>\n",
       "      <th>18</th>\n",
       "      <td>Itga8</td>\n",
       "      <td>AGAGCAGCGGGGTCGGCGGGCCGCACAGGGCGAGAGGACTGTCACT...</td>\n",
       "    </tr>\n",
       "    <tr>\n",
       "      <th>22</th>\n",
       "      <td>Adamts13</td>\n",
       "      <td>AGGAAGCTCCCAAGAGTAAACACTGCCTGATGTCCCGCCCAGCCAG...</td>\n",
       "    </tr>\n",
       "    <tr>\n",
       "      <th>27</th>\n",
       "      <td>Spag6</td>\n",
       "      <td>AGTCCCGAGGGACGTTGAGGGGTCGCGGCGAGCGGACCCGACACGC...</td>\n",
       "    </tr>\n",
       "    <tr>\n",
       "      <th>...</th>\n",
       "      <td>...</td>\n",
       "      <td>...</td>\n",
       "    </tr>\n",
       "    <tr>\n",
       "      <th>134473</th>\n",
       "      <td>Gm34744</td>\n",
       "      <td>ATGAGACGCGGTCACACCCCCTTCTAAACTTCCGGTCGCCTCCCAC...</td>\n",
       "    </tr>\n",
       "    <tr>\n",
       "      <th>134540</th>\n",
       "      <td>Atp10a</td>\n",
       "      <td>GAGGGGAGTCCGCGCTGCCGCGCCCGGGCGGCGGGCGATGATCACC...</td>\n",
       "    </tr>\n",
       "    <tr>\n",
       "      <th>134549</th>\n",
       "      <td>Rccd1</td>\n",
       "      <td>TTTTTTTTTTTTTTTCAGTGTCGTTTTTTTATGCTGGTCCTTGGAT...</td>\n",
       "    </tr>\n",
       "    <tr>\n",
       "      <th>134672</th>\n",
       "      <td>Gm12976</td>\n",
       "      <td>ACTGCAGTGAAACTGGGAGGCTAAGGGACTGGCCTCCAGACAGGCA...</td>\n",
       "    </tr>\n",
       "    <tr>\n",
       "      <th>134673</th>\n",
       "      <td>Gm12976</td>\n",
       "      <td>TTTTTCTTTTCTTTTTTTTCTTTCTTTCTTTTTTTTTTTTTTTTTG...</td>\n",
       "    </tr>\n",
       "  </tbody>\n",
       "</table>\n",
       "<p>18202 rows × 2 columns</p>\n",
       "</div>"
      ],
      "text/plain": [
       "         gene_id                                           sequence\n",
       "8         Zfp941  GCTGGAGCTGGCCATCTTTGGCACCTTTGGGAGCTCCTGCTGTTCT...\n",
       "14        Zfp456  CTCTTCCTCAAAGTTGGGCGGAAATGATATTCGGCTATCTATTCCA...\n",
       "18         Itga8  AGAGCAGCGGGGTCGGCGGGCCGCACAGGGCGAGAGGACTGTCACT...\n",
       "22      Adamts13  AGGAAGCTCCCAAGAGTAAACACTGCCTGATGTCCCGCCCAGCCAG...\n",
       "27         Spag6  AGTCCCGAGGGACGTTGAGGGGTCGCGGCGAGCGGACCCGACACGC...\n",
       "...          ...                                                ...\n",
       "134473   Gm34744  ATGAGACGCGGTCACACCCCCTTCTAAACTTCCGGTCGCCTCCCAC...\n",
       "134540    Atp10a  GAGGGGAGTCCGCGCTGCCGCGCCCGGGCGGCGGGCGATGATCACC...\n",
       "134549     Rccd1  TTTTTTTTTTTTTTTCAGTGTCGTTTTTTTATGCTGGTCCTTGGAT...\n",
       "134672   Gm12976  ACTGCAGTGAAACTGGGAGGCTAAGGGACTGGCCTCCAGACAGGCA...\n",
       "134673   Gm12976  TTTTTCTTTTCTTTTTTTTCTTTCTTTCTTTTTTTTTTTTTTTTTG...\n",
       "\n",
       "[18202 rows x 2 columns]"
      ]
     },
     "execution_count": 5,
     "metadata": {},
     "output_type": "execute_result"
    }
   ],
   "source": [
    "genes_df[\n",
    "    genes_df['gene_id'].isin(gene_ids_df['gene_id'])\n",
    "]"
   ]
  },
  {
   "cell_type": "code",
   "execution_count": 19,
   "metadata": {},
   "outputs": [
    {
     "data": {
      "text/plain": [
       "nd      10217\n",
       "up       5687\n",
       "down     2298\n",
       "Name: label, dtype: int64"
      ]
     },
     "execution_count": 19,
     "metadata": {},
     "output_type": "execute_result"
    }
   ],
   "source": [
    "genes_df.merge(gene_ids_df, on='gene_id')['label'].value_counts()"
   ]
  },
  {
   "cell_type": "code",
   "execution_count": 8,
   "metadata": {},
   "outputs": [
    {
     "data": {
      "text/html": [
       "<div>\n",
       "<style scoped>\n",
       "    .dataframe tbody tr th:only-of-type {\n",
       "        vertical-align: middle;\n",
       "    }\n",
       "\n",
       "    .dataframe tbody tr th {\n",
       "        vertical-align: top;\n",
       "    }\n",
       "\n",
       "    .dataframe thead th {\n",
       "        text-align: right;\n",
       "    }\n",
       "</style>\n",
       "<table border=\"1\" class=\"dataframe\">\n",
       "  <thead>\n",
       "    <tr style=\"text-align: right;\">\n",
       "      <th></th>\n",
       "      <th>gene_id</th>\n",
       "      <th>sequence</th>\n",
       "    </tr>\n",
       "  </thead>\n",
       "  <tbody>\n",
       "    <tr>\n",
       "      <th>8</th>\n",
       "      <td>Zfp941</td>\n",
       "      <td>GCTGGAGCTGGCCATCTTTGGCACCTTTGGGAGCTCCTGCTGTTCT...</td>\n",
       "    </tr>\n",
       "    <tr>\n",
       "      <th>12</th>\n",
       "      <td>Primpol</td>\n",
       "      <td>TCCGGCTCCGCCCCCTCGCGCGGGTTTCAAGCTCTGGTTCCCGCCA...</td>\n",
       "    </tr>\n",
       "    <tr>\n",
       "      <th>14</th>\n",
       "      <td>Zfp456</td>\n",
       "      <td>CTCTTCCTCAAAGTTGGGCGGAAATGATATTCGGCTATCTATTCCA...</td>\n",
       "    </tr>\n",
       "    <tr>\n",
       "      <th>27</th>\n",
       "      <td>Spag6</td>\n",
       "      <td>AGTCCCGAGGGACGTTGAGGGGTCGCGGCGAGCGGACCCGACACGC...</td>\n",
       "    </tr>\n",
       "    <tr>\n",
       "      <th>44</th>\n",
       "      <td>Wdr83os</td>\n",
       "      <td>GAAGTTGCTCTTCTAGCTGTGAAAGAAGGACGGCGTGGTCTTCAGT...</td>\n",
       "    </tr>\n",
       "    <tr>\n",
       "      <th>...</th>\n",
       "      <td>...</td>\n",
       "      <td>...</td>\n",
       "    </tr>\n",
       "    <tr>\n",
       "      <th>134472</th>\n",
       "      <td>Gm34744</td>\n",
       "      <td>ATGAGACGCGGTCACACCCCCTTCTAAACTTCCGGTCGCCTCCCAC...</td>\n",
       "    </tr>\n",
       "    <tr>\n",
       "      <th>134473</th>\n",
       "      <td>Gm34744</td>\n",
       "      <td>ATGAGACGCGGTCACACCCCCTTCTAAACTTCCGGTCGCCTCCCAC...</td>\n",
       "    </tr>\n",
       "    <tr>\n",
       "      <th>134540</th>\n",
       "      <td>Atp10a</td>\n",
       "      <td>GAGGGGAGTCCGCGCTGCCGCGCCCGGGCGGCGGGCGATGATCACC...</td>\n",
       "    </tr>\n",
       "    <tr>\n",
       "      <th>134548</th>\n",
       "      <td>Tubgcp5</td>\n",
       "      <td>CGGAACTCTCGCGAGAACAGTCGCCACTTAGCAGAGATCCTGATAG...</td>\n",
       "    </tr>\n",
       "    <tr>\n",
       "      <th>134549</th>\n",
       "      <td>Rccd1</td>\n",
       "      <td>TTTTTTTTTTTTTTTCAGTGTCGTTTTTTTATGCTGGTCCTTGGAT...</td>\n",
       "    </tr>\n",
       "  </tbody>\n",
       "</table>\n",
       "<p>16838 rows × 2 columns</p>\n",
       "</div>"
      ],
      "text/plain": [
       "        gene_id                                           sequence\n",
       "8        Zfp941  GCTGGAGCTGGCCATCTTTGGCACCTTTGGGAGCTCCTGCTGTTCT...\n",
       "12      Primpol  TCCGGCTCCGCCCCCTCGCGCGGGTTTCAAGCTCTGGTTCCCGCCA...\n",
       "14       Zfp456  CTCTTCCTCAAAGTTGGGCGGAAATGATATTCGGCTATCTATTCCA...\n",
       "27        Spag6  AGTCCCGAGGGACGTTGAGGGGTCGCGGCGAGCGGACCCGACACGC...\n",
       "44      Wdr83os  GAAGTTGCTCTTCTAGCTGTGAAAGAAGGACGGCGTGGTCTTCAGT...\n",
       "...         ...                                                ...\n",
       "134472  Gm34744  ATGAGACGCGGTCACACCCCCTTCTAAACTTCCGGTCGCCTCCCAC...\n",
       "134473  Gm34744  ATGAGACGCGGTCACACCCCCTTCTAAACTTCCGGTCGCCTCCCAC...\n",
       "134540   Atp10a  GAGGGGAGTCCGCGCTGCCGCGCCCGGGCGGCGGGCGATGATCACC...\n",
       "134548  Tubgcp5  CGGAACTCTCGCGAGAACAGTCGCCACTTAGCAGAGATCCTGATAG...\n",
       "134549    Rccd1  TTTTTTTTTTTTTTTCAGTGTCGTTTTTTTATGCTGGTCCTTGGAT...\n",
       "\n",
       "[16838 rows x 2 columns]"
      ]
     },
     "execution_count": 8,
     "metadata": {},
     "output_type": "execute_result"
    }
   ],
   "source": [
    "genes_df[genes_df['gene_id'].isin(gene_ids_df['gene_id'])]"
   ]
  },
  {
   "cell_type": "code",
   "execution_count": 10,
   "metadata": {},
   "outputs": [],
   "source": [
    "selected_genes_df = genes_df[genes_df['gene_id'].isin(gene_ids_df['gene_id'])]"
   ]
  },
  {
   "cell_type": "code",
   "execution_count": 11,
   "metadata": {},
   "outputs": [],
   "source": [
    "# Sort the DataFrame by gene_id and sequence length in descending order\n",
    "selected_genes_df = selected_genes_df.sort_values(\n",
    "    ['gene_id', 'sequence'], ascending=[True, False]\n",
    ")"
   ]
  },
  {
   "cell_type": "code",
   "execution_count": 18,
   "metadata": {},
   "outputs": [],
   "source": [
    "# Identify duplicated gene_ids and keep only the longest sequence for each\n",
    "selected_genes_df.drop_duplicates(\n",
    "    subset='gene_id', keep='first', inplace=True, ignore_index=True\n",
    ")"
   ]
  },
  {
   "cell_type": "code",
   "execution_count": null,
   "metadata": {},
   "outputs": [],
   "source": []
  }
 ],
 "metadata": {
  "kernelspec": {
   "display_name": "env",
   "language": "python",
   "name": "python3"
  },
  "language_info": {
   "codemirror_mode": {
    "name": "ipython",
    "version": 3
   },
   "file_extension": ".py",
   "mimetype": "text/x-python",
   "name": "python",
   "nbconvert_exporter": "python",
   "pygments_lexer": "ipython3",
   "version": "3.10.2"
  },
  "orig_nbformat": 4
 },
 "nbformat": 4,
 "nbformat_minor": 2
}

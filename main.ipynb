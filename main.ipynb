{
 "cells": [
  {
   "cell_type": "code",
   "execution_count": 1,
   "metadata": {},
   "outputs": [],
   "source": [
    "import os\n",
    "import itertools\n",
    "import pandas as pd\n",
    "from skbio import Sequence\n",
    "from skbio import DNA"
   ]
  },
  {
   "cell_type": "code",
   "execution_count": null,
   "metadata": {},
   "outputs": [],
   "source": [
    "def createTetranucleotideRC_features():\n",
    "    featureTable = pd.read_csv('Featuretable.tsv', \"\\t\")\n",
    "    Sequences = pd.read_csv('sequences.txt', header=None, sep=\"\\t\")\n",
    "    Sequences.iloc[:,0] = Sequences.iloc[:,0].str.split(\"(\",expand=True).iloc[:,0]\n",
    "    # Number of sequences\n",
    "    rowsCount = Sequences.shape[0]\n",
    "    # Number of Nucleotide\n",
    "    NucleotideNum = 4\n",
    "    # Appending NucleotidesColumn(new features) and initialize with zeros\n",
    "    iter = itertools.product('ACGT', repeat=NucleotideNum)\n",
    "    iterJoin = []\n",
    "    for i in iter:\n",
    "        colLable = \"\".join(i)\n",
    "        iterJoin.append(colLable)\n",
    "        colValues_zeros = [0]*rowsCount\n",
    "        featureTable[colLable] = colValues_zeros\n",
    "    # Filling NucleotidesColumn with their frequency for each sequence\n",
    "    for idIndex in range(rowsCount):\n",
    "        id = Sequences.iloc[idIndex,0]\n",
    "        seq = Sequences.iloc[idIndex,1]\n",
    "        s = Sequence(seq)\n",
    "        freqs = s.kmer_frequencies(NucleotideNum, relative=True, overlap=True)\n",
    "        for nucleotide in freqs:\n",
    "            if nucleotide in iterJoin :\n",
    "                featureTable.loc[id , nucleotide] = freqs[nucleotide]\n",
    "                \n",
    "                \n",
    "    ###### Creating Reverse Complement Features ######\n",
    "    # Extracting Tetranucleotides' name\n",
    "    featuresName = [ x for x in featureTable.keys()[7:]]\n",
    "    # Calculating new features based on tetraNucleotides & their reverse complement\n",
    "    while len(featuresName)>0 : \n",
    "        tetraNucleotideName = featuresName[0]\n",
    "        seq = DNA(tetraNucleotideName)\n",
    "        tetraNucleotide_ReverseComp = str(seq.reverse_complement())\n",
    "        if(tetraNucleotide_ReverseComp == tetraNucleotideName):\n",
    "            featureTable[f'{tetraNucleotideName}/{tetraNucleotide_ReverseComp}'] = featureTable[tetraNucleotideName]\n",
    "        else:\n",
    "            featureTable[f'{tetraNucleotideName}/{tetraNucleotide_ReverseComp}'] = featureTable[tetraNucleotideName] + featureTable[tetraNucleotide_ReverseComp]\n",
    "            featureTable.drop(tetraNucleotide_ReverseComp, axis=1, inplace=True)\n",
    "            featuresName.remove(tetraNucleotide_ReverseComp)\n",
    "        featureTable.drop(tetraNucleotideName, axis=1, inplace=True)\n",
    "        featuresName.remove(tetraNucleotideName)   \n",
    "    featureTable.to_csv(\"featureTableNew.tsv\", sep=\"\\t\")"
   ]
  }
 ],
 "metadata": {
  "kernelspec": {
   "display_name": "datavis",
   "language": "python",
   "name": "python3"
  },
  "language_info": {
   "codemirror_mode": {
    "name": "ipython",
    "version": 3
   },
   "file_extension": ".py",
   "mimetype": "text/x-python",
   "name": "python",
   "nbconvert_exporter": "python",
   "pygments_lexer": "ipython3",
   "version": "3.11.1"
  },
  "orig_nbformat": 4
 },
 "nbformat": 4,
 "nbformat_minor": 2
}

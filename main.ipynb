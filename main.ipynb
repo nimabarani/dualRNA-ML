{
 "cells": [
  {
   "cell_type": "code",
   "execution_count": 1,
   "metadata": {},
   "outputs": [],
   "source": [
    "import numpy as np\n",
    "import pandas as pd"
   ]
  },
  {
   "attachments": {},
   "cell_type": "markdown",
   "metadata": {},
   "source": [
    "## Human"
   ]
  },
  {
   "cell_type": "code",
   "execution_count": 2,
   "metadata": {},
   "outputs": [
    {
     "name": "stdout",
     "output_type": "stream",
     "text": [
      "(14785, 1)\n"
     ]
    }
   ],
   "source": [
    "human1_df = pd.read_csv('../count_tables/experiment1/host.csv').iloc[:, [0, 7]]\n",
    "human1_df.rename(columns={'Unnamed: 0': 'gene_id'}, inplace=True)\n",
    "human1_df.set_index('gene_id', inplace=True)\n",
    "print(human1_df.shape)"
   ]
  },
  {
   "cell_type": "code",
   "execution_count": 3,
   "metadata": {},
   "outputs": [
    {
     "data": {
      "text/html": [
       "<div>\n",
       "<style scoped>\n",
       "    .dataframe tbody tr th:only-of-type {\n",
       "        vertical-align: middle;\n",
       "    }\n",
       "\n",
       "    .dataframe tbody tr th {\n",
       "        vertical-align: top;\n",
       "    }\n",
       "\n",
       "    .dataframe thead th {\n",
       "        text-align: right;\n",
       "    }\n",
       "</style>\n",
       "<table border=\"1\" class=\"dataframe\">\n",
       "  <thead>\n",
       "    <tr style=\"text-align: right;\">\n",
       "      <th></th>\n",
       "      <th>log2FoldChange</th>\n",
       "    </tr>\n",
       "    <tr>\n",
       "      <th>gene_id</th>\n",
       "      <th></th>\n",
       "    </tr>\n",
       "  </thead>\n",
       "  <tbody>\n",
       "    <tr>\n",
       "      <th>WASH7P</th>\n",
       "      <td>nd</td>\n",
       "    </tr>\n",
       "    <tr>\n",
       "      <th>LOC100996442</th>\n",
       "      <td>nd</td>\n",
       "    </tr>\n",
       "    <tr>\n",
       "      <th>MTND1P23</th>\n",
       "      <td>up</td>\n",
       "    </tr>\n",
       "    <tr>\n",
       "      <th>MTCO2P12</th>\n",
       "      <td>up</td>\n",
       "    </tr>\n",
       "    <tr>\n",
       "      <th>MTATP6P1</th>\n",
       "      <td>up</td>\n",
       "    </tr>\n",
       "  </tbody>\n",
       "</table>\n",
       "</div>"
      ],
      "text/plain": [
       "             log2FoldChange\n",
       "gene_id                    \n",
       "WASH7P                   nd\n",
       "LOC100996442             nd\n",
       "MTND1P23                 up\n",
       "MTCO2P12                 up\n",
       "MTATP6P1                 up"
      ]
     },
     "execution_count": 3,
     "metadata": {},
     "output_type": "execute_result"
    }
   ],
   "source": [
    "human1_df.head()"
   ]
  },
  {
   "cell_type": "code",
   "execution_count": 4,
   "metadata": {},
   "outputs": [
    {
     "name": "stdout",
     "output_type": "stream",
     "text": [
      "(16070, 1)\n"
     ]
    }
   ],
   "source": [
    "human5_df = pd.read_csv('../count_tables/experiment5/host.csv').iloc[:, [0, 7]]\n",
    "human5_df.rename(columns={'Unnamed: 0': 'gene_id'}, inplace=True)\n",
    "human5_df.set_index('gene_id', inplace=True)\n",
    "print(human5_df.shape)"
   ]
  },
  {
   "cell_type": "code",
   "execution_count": 5,
   "metadata": {},
   "outputs": [
    {
     "name": "stdout",
     "output_type": "stream",
     "text": [
      "(17043, 1)\n"
     ]
    }
   ],
   "source": [
    "human6_df = pd.read_csv('../count_tables/experiment6/host.csv').iloc[:, [0, 7]]\n",
    "human6_df.rename(columns={'Unnamed: 0': 'gene_id'}, inplace=True)\n",
    "human6_df.set_index('gene_id', inplace=True)\n",
    "print(human6_df.shape)"
   ]
  },
  {
   "cell_type": "code",
   "execution_count": 6,
   "metadata": {},
   "outputs": [
    {
     "name": "stdout",
     "output_type": "stream",
     "text": [
      "(14828, 1)\n"
     ]
    }
   ],
   "source": [
    "human9_df = pd.read_csv('../count_tables/experiment9/host.csv').iloc[:, [0, 7]]\n",
    "human9_df.rename(columns={'Unnamed: 0': 'gene_id'}, inplace=True)\n",
    "human9_df.set_index('gene_id', inplace=True)\n",
    "print(human9_df.shape)"
   ]
  },
  {
   "cell_type": "code",
   "execution_count": 16,
   "metadata": {},
   "outputs": [
    {
     "data": {
      "text/html": [
       "<div>\n",
       "<style scoped>\n",
       "    .dataframe tbody tr th:only-of-type {\n",
       "        vertical-align: middle;\n",
       "    }\n",
       "\n",
       "    .dataframe tbody tr th {\n",
       "        vertical-align: top;\n",
       "    }\n",
       "\n",
       "    .dataframe thead th {\n",
       "        text-align: right;\n",
       "    }\n",
       "</style>\n",
       "<table border=\"1\" class=\"dataframe\">\n",
       "  <thead>\n",
       "    <tr style=\"text-align: right;\">\n",
       "      <th></th>\n",
       "      <th>log2FoldChange_1</th>\n",
       "      <th>log2FoldChange_5</th>\n",
       "      <th>log2FoldChange</th>\n",
       "      <th>log2FoldChange_9</th>\n",
       "    </tr>\n",
       "    <tr>\n",
       "      <th>gene_id</th>\n",
       "      <th></th>\n",
       "      <th></th>\n",
       "      <th></th>\n",
       "      <th></th>\n",
       "    </tr>\n",
       "  </thead>\n",
       "  <tbody>\n",
       "    <tr>\n",
       "      <th>LOC100996442</th>\n",
       "      <td>nd</td>\n",
       "      <td>nd</td>\n",
       "      <td>nd</td>\n",
       "      <td>nd</td>\n",
       "    </tr>\n",
       "    <tr>\n",
       "      <th>MTATP6P1</th>\n",
       "      <td>up</td>\n",
       "      <td>nd</td>\n",
       "      <td>nd</td>\n",
       "      <td>nd</td>\n",
       "    </tr>\n",
       "    <tr>\n",
       "      <th>LOC100288069</th>\n",
       "      <td>nd</td>\n",
       "      <td>nd</td>\n",
       "      <td>nd</td>\n",
       "      <td>nd</td>\n",
       "    </tr>\n",
       "    <tr>\n",
       "      <th>LINC01409</th>\n",
       "      <td>nd</td>\n",
       "      <td>nd</td>\n",
       "      <td>up</td>\n",
       "      <td>nd</td>\n",
       "    </tr>\n",
       "    <tr>\n",
       "      <th>LINC00115</th>\n",
       "      <td>nd</td>\n",
       "      <td>nd</td>\n",
       "      <td>nd</td>\n",
       "      <td>nd</td>\n",
       "    </tr>\n",
       "  </tbody>\n",
       "</table>\n",
       "</div>"
      ],
      "text/plain": [
       "             log2FoldChange_1 log2FoldChange_5 log2FoldChange log2FoldChange_9\n",
       "gene_id                                                                       \n",
       "LOC100996442               nd               nd             nd               nd\n",
       "MTATP6P1                   up               nd             nd               nd\n",
       "LOC100288069               nd               nd             nd               nd\n",
       "LINC01409                  nd               nd             up               nd\n",
       "LINC00115                  nd               nd             nd               nd"
      ]
     },
     "execution_count": 16,
     "metadata": {},
     "output_type": "execute_result"
    }
   ],
   "source": [
    "human_merged_df = pd.merge(\n",
    "    human1_df,\n",
    "    human5_df,\n",
    "    left_index=True,\n",
    "    right_index=True,\n",
    "    suffixes=['_1', '_5'],\n",
    ")\n",
    "human_merged_df = pd.merge(\n",
    "    human_merged_df,\n",
    "    human6_df,\n",
    "    left_index=True,\n",
    "    right_index=True,\n",
    "    suffixes=[None, '_6'],\n",
    ")\n",
    "human_merged_df = pd.merge(\n",
    "    human_merged_df,\n",
    "    human9_df,\n",
    "    left_index=True,\n",
    "    right_index=True,\n",
    "    suffixes=[None, '_9'],\n",
    ")\n",
    "human_merged_df.head()"
   ]
  },
  {
   "cell_type": "code",
   "execution_count": 8,
   "metadata": {},
   "outputs": [
    {
     "name": "stdout",
     "output_type": "stream",
     "text": [
      "(2842, 1)\n"
     ]
    },
    {
     "data": {
      "text/plain": [
       "label\n",
       "nd       2620\n",
       "up        123\n",
       "down       99\n",
       "dtype: int64"
      ]
     },
     "execution_count": 8,
     "metadata": {},
     "output_type": "execute_result"
    }
   ],
   "source": [
    "def change_log_human(row):\n",
    "    if (set(row) == set(['up', 'nd'])):\n",
    "        if(row.value_counts()['up']>=2):\n",
    "            return 'up'\n",
    "    if (set(row) == set(['down', 'nd'])):\n",
    "        if (row.value_counts()['down']>=2):\n",
    "            return 'down'\n",
    "    if (row.nunique() == 1):\n",
    "        return row[0]\n",
    "    return None\n",
    "\n",
    "human_df = (\n",
    "    human_merged_df.apply(lambda x: change_log_human(x), axis=1)\n",
    "    .dropna()\n",
    "    .to_frame('label')\n",
    ")\n",
    "print(human_df.shape)\n",
    "human_df.value_counts()"
   ]
  },
  {
   "attachments": {},
   "cell_type": "markdown",
   "metadata": {},
   "source": [
    "## Mouse"
   ]
  },
  {
   "cell_type": "code",
   "execution_count": 9,
   "metadata": {},
   "outputs": [
    {
     "name": "stdout",
     "output_type": "stream",
     "text": [
      "(13220, 1)\n"
     ]
    }
   ],
   "source": [
    "mouse4_df = pd.read_csv('../count_tables/experiment4/host.csv').iloc[:, [0, 7]]\n",
    "mouse4_df.rename(columns={'Unnamed: 0': 'gene_id'}, inplace=True)\n",
    "mouse4_df.set_index('gene_id', inplace=True)\n",
    "print(mouse4_df.shape)"
   ]
  },
  {
   "cell_type": "code",
   "execution_count": 10,
   "metadata": {},
   "outputs": [
    {
     "name": "stdout",
     "output_type": "stream",
     "text": [
      "(13818, 1)\n"
     ]
    }
   ],
   "source": [
    "mouse8_df = pd.read_csv('../count_tables/experiment8/host.csv').iloc[:, [0, 7]]\n",
    "mouse8_df.rename(columns={'Unnamed: 0': 'gene_id'}, inplace=True)\n",
    "mouse8_df.set_index('gene_id', inplace=True)\n",
    "print(mouse8_df.shape)"
   ]
  },
  {
   "cell_type": "code",
   "execution_count": 14,
   "metadata": {},
   "outputs": [
    {
     "data": {
      "text/html": [
       "<div>\n",
       "<style scoped>\n",
       "    .dataframe tbody tr th:only-of-type {\n",
       "        vertical-align: middle;\n",
       "    }\n",
       "\n",
       "    .dataframe tbody tr th {\n",
       "        vertical-align: top;\n",
       "    }\n",
       "\n",
       "    .dataframe thead th {\n",
       "        text-align: right;\n",
       "    }\n",
       "</style>\n",
       "<table border=\"1\" class=\"dataframe\">\n",
       "  <thead>\n",
       "    <tr style=\"text-align: right;\">\n",
       "      <th></th>\n",
       "      <th>log2FoldChange_4</th>\n",
       "      <th>log2FoldChange_8</th>\n",
       "    </tr>\n",
       "    <tr>\n",
       "      <th>gene_id</th>\n",
       "      <th></th>\n",
       "      <th></th>\n",
       "    </tr>\n",
       "  </thead>\n",
       "  <tbody>\n",
       "    <tr>\n",
       "      <th>Xkr4</th>\n",
       "      <td>up</td>\n",
       "      <td>down</td>\n",
       "    </tr>\n",
       "    <tr>\n",
       "      <th>Rp1</th>\n",
       "      <td>up</td>\n",
       "      <td>down</td>\n",
       "    </tr>\n",
       "    <tr>\n",
       "      <th>LOC118567656</th>\n",
       "      <td>nd</td>\n",
       "      <td>nd</td>\n",
       "    </tr>\n",
       "    <tr>\n",
       "      <th>Rgs20</th>\n",
       "      <td>up</td>\n",
       "      <td>up</td>\n",
       "    </tr>\n",
       "    <tr>\n",
       "      <th>Gm26901</th>\n",
       "      <td>up</td>\n",
       "      <td>up</td>\n",
       "    </tr>\n",
       "  </tbody>\n",
       "</table>\n",
       "</div>"
      ],
      "text/plain": [
       "             log2FoldChange_4 log2FoldChange_8\n",
       "gene_id                                       \n",
       "Xkr4                       up             down\n",
       "Rp1                        up             down\n",
       "LOC118567656               nd               nd\n",
       "Rgs20                      up               up\n",
       "Gm26901                    up               up"
      ]
     },
     "execution_count": 14,
     "metadata": {},
     "output_type": "execute_result"
    }
   ],
   "source": [
    "mouse_merged_df = pd.merge(\n",
    "    mouse4_df,\n",
    "    mouse8_df,\n",
    "    left_index=True,\n",
    "    right_index=True,\n",
    "    suffixes=['_4', '_8'],\n",
    ")\n",
    "mouse_merged_df.head()"
   ]
  },
  {
   "cell_type": "code",
   "execution_count": 15,
   "metadata": {},
   "outputs": [
    {
     "name": "stdout",
     "output_type": "stream",
     "text": [
      "(3681, 2)\n"
     ]
    },
    {
     "data": {
      "text/plain": [
       "nd      2257\n",
       "up       937\n",
       "down     487\n",
       "Name: label, dtype: int64"
      ]
     },
     "execution_count": 15,
     "metadata": {},
     "output_type": "execute_result"
    }
   ],
   "source": [
    "mouse_mask = mouse_merged_df.nunique(axis=1)==1\n",
    "mouse_df = (\n",
    "    mouse_merged_df[mouse_mask].iloc[:, 0].to_frame('label').reset_index()\n",
    ")\n",
    "print(mouse_df.shape)\n",
    "mouse_df['label'].value_counts()"
   ]
  },
  {
   "cell_type": "code",
   "execution_count": 19,
   "metadata": {},
   "outputs": [
    {
     "data": {
      "text/html": [
       "<div>\n",
       "<style scoped>\n",
       "    .dataframe tbody tr th:only-of-type {\n",
       "        vertical-align: middle;\n",
       "    }\n",
       "\n",
       "    .dataframe tbody tr th {\n",
       "        vertical-align: top;\n",
       "    }\n",
       "\n",
       "    .dataframe thead th {\n",
       "        text-align: right;\n",
       "    }\n",
       "</style>\n",
       "<table border=\"1\" class=\"dataframe\">\n",
       "  <thead>\n",
       "    <tr style=\"text-align: right;\">\n",
       "      <th></th>\n",
       "      <th>gene_id</th>\n",
       "      <th>label</th>\n",
       "    </tr>\n",
       "  </thead>\n",
       "  <tbody>\n",
       "    <tr>\n",
       "      <th>0</th>\n",
       "      <td>LOC118567656</td>\n",
       "      <td>nd</td>\n",
       "    </tr>\n",
       "    <tr>\n",
       "      <th>1</th>\n",
       "      <td>Rgs20</td>\n",
       "      <td>up</td>\n",
       "    </tr>\n",
       "    <tr>\n",
       "      <th>2</th>\n",
       "      <td>Gm26901</td>\n",
       "      <td>up</td>\n",
       "    </tr>\n",
       "    <tr>\n",
       "      <th>3</th>\n",
       "      <td>Sntg1</td>\n",
       "      <td>up</td>\n",
       "    </tr>\n",
       "    <tr>\n",
       "      <th>4</th>\n",
       "      <td>Adhfe1</td>\n",
       "      <td>nd</td>\n",
       "    </tr>\n",
       "    <tr>\n",
       "      <th>...</th>\n",
       "      <td>...</td>\n",
       "      <td>...</td>\n",
       "    </tr>\n",
       "    <tr>\n",
       "      <th>3676</th>\n",
       "      <td>LOC108168645</td>\n",
       "      <td>up</td>\n",
       "    </tr>\n",
       "    <tr>\n",
       "      <th>3677</th>\n",
       "      <td>TrnL1</td>\n",
       "      <td>nd</td>\n",
       "    </tr>\n",
       "    <tr>\n",
       "      <th>3678</th>\n",
       "      <td>ND2</td>\n",
       "      <td>nd</td>\n",
       "    </tr>\n",
       "    <tr>\n",
       "      <th>3679</th>\n",
       "      <td>TrnW</td>\n",
       "      <td>nd</td>\n",
       "    </tr>\n",
       "    <tr>\n",
       "      <th>3680</th>\n",
       "      <td>TrnP</td>\n",
       "      <td>nd</td>\n",
       "    </tr>\n",
       "  </tbody>\n",
       "</table>\n",
       "<p>3681 rows × 2 columns</p>\n",
       "</div>"
      ],
      "text/plain": [
       "           gene_id label\n",
       "0     LOC118567656    nd\n",
       "1            Rgs20    up\n",
       "2          Gm26901    up\n",
       "3            Sntg1    up\n",
       "4           Adhfe1    nd\n",
       "...            ...   ...\n",
       "3676  LOC108168645    up\n",
       "3677         TrnL1    nd\n",
       "3678           ND2    nd\n",
       "3679          TrnW    nd\n",
       "3680          TrnP    nd\n",
       "\n",
       "[3681 rows x 2 columns]"
      ]
     },
     "execution_count": 19,
     "metadata": {},
     "output_type": "execute_result"
    }
   ],
   "source": [
    "mouse_df"
   ]
  },
  {
   "cell_type": "code",
   "execution_count": 13,
   "metadata": {},
   "outputs": [],
   "source": [
    "mouse_df.to_csv('./.csv')"
   ]
  },
  {
   "cell_type": "code",
   "execution_count": null,
   "metadata": {},
   "outputs": [],
   "source": []
  }
 ],
 "metadata": {
  "kernelspec": {
   "display_name": "Python 3 (ipykernel)",
   "language": "python",
   "name": "python3"
  },
  "language_info": {
   "codemirror_mode": {
    "name": "ipython",
    "version": 3
   },
   "file_extension": ".py",
   "mimetype": "text/x-python",
   "name": "python",
   "nbconvert_exporter": "python",
   "pygments_lexer": "ipython3",
   "version": "3.10.2"
  }
 },
 "nbformat": 4,
 "nbformat_minor": 4
}

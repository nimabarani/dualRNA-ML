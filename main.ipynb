{
 "cells": [
  {
   "cell_type": "code",
   "execution_count": 1,
   "metadata": {},
   "outputs": [],
   "source": [
    "import numpy as np\n",
    "import pandas as pd"
   ]
  },
  {
   "attachments": {},
   "cell_type": "markdown",
   "metadata": {},
   "source": [
    "## Human"
   ]
  },
  {
   "cell_type": "code",
   "execution_count": 2,
   "metadata": {},
   "outputs": [
    {
     "name": "stdout",
     "output_type": "stream",
     "text": [
      "(14785, 1)\n"
     ]
    }
   ],
   "source": [
    "human1_df = pd.read_csv('../count_tables/experiment1/host.csv').iloc[:, [0, 7]]\n",
    "human1_df.rename(columns={'Unnamed: 0': 'gene_id'}, inplace=True)\n",
    "human1_df.set_index('gene_id', inplace=True)\n",
    "print(human1_df.shape)"
   ]
  },
  {
   "cell_type": "code",
   "execution_count": 4,
   "metadata": {},
   "outputs": [
    {
     "name": "stdout",
     "output_type": "stream",
     "text": [
      "(16070, 1)\n"
     ]
    }
   ],
   "source": [
    "human5_df = pd.read_csv('../count_tables/experiment5/host.csv').iloc[:, [0, 7]]\n",
    "human5_df.rename(columns={'Unnamed: 0': 'gene_id'}, inplace=True)\n",
    "human5_df.set_index('gene_id', inplace=True)\n",
    "print(human5_df.shape)"
   ]
  },
  {
   "cell_type": "code",
   "execution_count": 5,
   "metadata": {},
   "outputs": [
    {
     "name": "stdout",
     "output_type": "stream",
     "text": [
      "(17043, 1)\n"
     ]
    }
   ],
   "source": [
    "human6_df = pd.read_csv('../count_tables/experiment6/host.csv').iloc[:, [0, 7]]\n",
    "human6_df.rename(columns={'Unnamed: 0': 'gene_id'}, inplace=True)\n",
    "human6_df.set_index('gene_id', inplace=True)\n",
    "print(human6_df.shape)"
   ]
  },
  {
   "cell_type": "code",
   "execution_count": 6,
   "metadata": {},
   "outputs": [
    {
     "name": "stdout",
     "output_type": "stream",
     "text": [
      "(14828, 1)\n"
     ]
    }
   ],
   "source": [
    "human9_df = pd.read_csv('../count_tables/experiment9/host.csv').iloc[:, [0, 7]]\n",
    "human9_df.rename(columns={'Unnamed: 0': 'gene_id'}, inplace=True)\n",
    "human9_df.set_index('gene_id', inplace=True)\n",
    "print(human9_df.shape)"
   ]
  },
  {
   "cell_type": "code",
   "execution_count": 7,
   "metadata": {},
   "outputs": [
    {
     "data": {
      "text/html": [
       "<div>\n",
       "<style scoped>\n",
       "    .dataframe tbody tr th:only-of-type {\n",
       "        vertical-align: middle;\n",
       "    }\n",
       "\n",
       "    .dataframe tbody tr th {\n",
       "        vertical-align: top;\n",
       "    }\n",
       "\n",
       "    .dataframe thead th {\n",
       "        text-align: right;\n",
       "    }\n",
       "</style>\n",
       "<table border=\"1\" class=\"dataframe\">\n",
       "  <thead>\n",
       "    <tr style=\"text-align: right;\">\n",
       "      <th></th>\n",
       "      <th>log2FoldChange_1</th>\n",
       "      <th>log2FoldChange_5</th>\n",
       "      <th>log2FoldChange</th>\n",
       "      <th>log2FoldChange_9</th>\n",
       "    </tr>\n",
       "    <tr>\n",
       "      <th>gene_id</th>\n",
       "      <th></th>\n",
       "      <th></th>\n",
       "      <th></th>\n",
       "      <th></th>\n",
       "    </tr>\n",
       "  </thead>\n",
       "  <tbody>\n",
       "    <tr>\n",
       "      <th>LOC100996442</th>\n",
       "      <td>nd</td>\n",
       "      <td>nd</td>\n",
       "      <td>nd</td>\n",
       "      <td>nd</td>\n",
       "    </tr>\n",
       "    <tr>\n",
       "      <th>MTATP6P1</th>\n",
       "      <td>up</td>\n",
       "      <td>nd</td>\n",
       "      <td>nd</td>\n",
       "      <td>nd</td>\n",
       "    </tr>\n",
       "    <tr>\n",
       "      <th>LOC100288069</th>\n",
       "      <td>nd</td>\n",
       "      <td>nd</td>\n",
       "      <td>nd</td>\n",
       "      <td>nd</td>\n",
       "    </tr>\n",
       "    <tr>\n",
       "      <th>LINC01409</th>\n",
       "      <td>nd</td>\n",
       "      <td>nd</td>\n",
       "      <td>up</td>\n",
       "      <td>nd</td>\n",
       "    </tr>\n",
       "    <tr>\n",
       "      <th>LINC00115</th>\n",
       "      <td>nd</td>\n",
       "      <td>nd</td>\n",
       "      <td>nd</td>\n",
       "      <td>nd</td>\n",
       "    </tr>\n",
       "  </tbody>\n",
       "</table>\n",
       "</div>"
      ],
      "text/plain": [
       "             log2FoldChange_1 log2FoldChange_5 log2FoldChange log2FoldChange_9\n",
       "gene_id                                                                       \n",
       "LOC100996442               nd               nd             nd               nd\n",
       "MTATP6P1                   up               nd             nd               nd\n",
       "LOC100288069               nd               nd             nd               nd\n",
       "LINC01409                  nd               nd             up               nd\n",
       "LINC00115                  nd               nd             nd               nd"
      ]
     },
     "execution_count": 7,
     "metadata": {},
     "output_type": "execute_result"
    }
   ],
   "source": [
    "human_merged_df = pd.merge(\n",
    "    human1_df,\n",
    "    human5_df,\n",
    "    left_index=True,\n",
    "    right_index=True,\n",
    "    suffixes=['_1', '_5'],\n",
    ")\n",
    "human_merged_df = pd.merge(\n",
    "    human_merged_df,\n",
    "    human6_df,\n",
    "    left_index=True,\n",
    "    right_index=True,\n",
    "    suffixes=[None, '_6'],\n",
    ")\n",
    "human_merged_df = pd.merge(\n",
    "    human_merged_df,\n",
    "    human9_df,\n",
    "    left_index=True,\n",
    "    right_index=True,\n",
    "    suffixes=[None, '_9'],\n",
    ")\n",
    "human_merged_df.head()"
   ]
  },
  {
   "cell_type": "code",
   "execution_count": 12,
   "metadata": {},
   "outputs": [
    {
     "name": "stdout",
     "output_type": "stream",
     "text": [
      "(2842, 2)\n"
     ]
    },
    {
     "data": {
      "text/plain": [
       "nd      2620\n",
       "up       123\n",
       "down      99\n",
       "Name: label, dtype: int64"
      ]
     },
     "execution_count": 12,
     "metadata": {},
     "output_type": "execute_result"
    }
   ],
   "source": [
    "def change_log_human(row):\n",
    "    if (set(row) == set(['up', 'nd'])):\n",
    "        if(row.value_counts()['up']>=2):\n",
    "            return 'up'\n",
    "    if (set(row) == set(['down', 'nd'])):\n",
    "        if (row.value_counts()['down']>=2):\n",
    "            return 'down'\n",
    "    if (row.nunique() == 1):\n",
    "        return row[0]\n",
    "    return None\n",
    "\n",
    "human_df = (\n",
    "    human_merged_df.apply(lambda x: change_log_human(x), axis=1)\n",
    "    .dropna()\n",
    "    .to_frame('label')\n",
    "    .reset_index()\n",
    ")\n",
    "print(human_df.shape)\n",
    "human_df['label'].value_counts()"
   ]
  },
  {
   "cell_type": "code",
   "execution_count": 13,
   "metadata": {},
   "outputs": [],
   "source": [
    "# human_df.to_csv('../genomes/hosts/GCF_000001405.40/genes/gene_ids.csv', index=False)"
   ]
  },
  {
   "attachments": {},
   "cell_type": "markdown",
   "metadata": {},
   "source": [
    "## Mouse"
   ]
  },
  {
   "cell_type": "code",
   "execution_count": 14,
   "metadata": {},
   "outputs": [
    {
     "name": "stdout",
     "output_type": "stream",
     "text": [
      "(13220, 1)\n"
     ]
    }
   ],
   "source": [
    "mouse4_df = pd.read_csv('../count_tables/experiment4/host.csv').iloc[:, [0, 7]]\n",
    "mouse4_df.rename(columns={'Unnamed: 0': 'gene_id'}, inplace=True)\n",
    "mouse4_df.set_index('gene_id', inplace=True)\n",
    "print(mouse4_df.shape)"
   ]
  },
  {
   "cell_type": "code",
   "execution_count": 15,
   "metadata": {},
   "outputs": [
    {
     "name": "stdout",
     "output_type": "stream",
     "text": [
      "(13818, 1)\n"
     ]
    }
   ],
   "source": [
    "mouse8_df = pd.read_csv('../count_tables/experiment8/host.csv').iloc[:, [0, 7]]\n",
    "mouse8_df.rename(columns={'Unnamed: 0': 'gene_id'}, inplace=True)\n",
    "mouse8_df.set_index('gene_id', inplace=True)\n",
    "print(mouse8_df.shape)"
   ]
  },
  {
   "cell_type": "code",
   "execution_count": 16,
   "metadata": {},
   "outputs": [
    {
     "data": {
      "text/html": [
       "<div>\n",
       "<style scoped>\n",
       "    .dataframe tbody tr th:only-of-type {\n",
       "        vertical-align: middle;\n",
       "    }\n",
       "\n",
       "    .dataframe tbody tr th {\n",
       "        vertical-align: top;\n",
       "    }\n",
       "\n",
       "    .dataframe thead th {\n",
       "        text-align: right;\n",
       "    }\n",
       "</style>\n",
       "<table border=\"1\" class=\"dataframe\">\n",
       "  <thead>\n",
       "    <tr style=\"text-align: right;\">\n",
       "      <th></th>\n",
       "      <th>log2FoldChange_4</th>\n",
       "      <th>log2FoldChange_8</th>\n",
       "    </tr>\n",
       "    <tr>\n",
       "      <th>gene_id</th>\n",
       "      <th></th>\n",
       "      <th></th>\n",
       "    </tr>\n",
       "  </thead>\n",
       "  <tbody>\n",
       "    <tr>\n",
       "      <th>Xkr4</th>\n",
       "      <td>up</td>\n",
       "      <td>down</td>\n",
       "    </tr>\n",
       "    <tr>\n",
       "      <th>Rp1</th>\n",
       "      <td>up</td>\n",
       "      <td>down</td>\n",
       "    </tr>\n",
       "    <tr>\n",
       "      <th>LOC118567656</th>\n",
       "      <td>nd</td>\n",
       "      <td>nd</td>\n",
       "    </tr>\n",
       "    <tr>\n",
       "      <th>Rgs20</th>\n",
       "      <td>up</td>\n",
       "      <td>up</td>\n",
       "    </tr>\n",
       "    <tr>\n",
       "      <th>Gm26901</th>\n",
       "      <td>up</td>\n",
       "      <td>up</td>\n",
       "    </tr>\n",
       "  </tbody>\n",
       "</table>\n",
       "</div>"
      ],
      "text/plain": [
       "             log2FoldChange_4 log2FoldChange_8\n",
       "gene_id                                       \n",
       "Xkr4                       up             down\n",
       "Rp1                        up             down\n",
       "LOC118567656               nd               nd\n",
       "Rgs20                      up               up\n",
       "Gm26901                    up               up"
      ]
     },
     "execution_count": 16,
     "metadata": {},
     "output_type": "execute_result"
    }
   ],
   "source": [
    "mouse_merged_df = pd.merge(\n",
    "    mouse4_df,\n",
    "    mouse8_df,\n",
    "    left_index=True,\n",
    "    right_index=True,\n",
    "    suffixes=['_4', '_8'],\n",
    ")\n",
    "mouse_merged_df.head()"
   ]
  },
  {
   "cell_type": "code",
   "execution_count": 17,
   "metadata": {},
   "outputs": [
    {
     "name": "stdout",
     "output_type": "stream",
     "text": [
      "(3681, 2)\n"
     ]
    },
    {
     "data": {
      "text/plain": [
       "nd      2257\n",
       "up       937\n",
       "down     487\n",
       "Name: label, dtype: int64"
      ]
     },
     "execution_count": 17,
     "metadata": {},
     "output_type": "execute_result"
    }
   ],
   "source": [
    "mouse_mask = mouse_merged_df.nunique(axis=1)==1\n",
    "mouse_df = (\n",
    "    mouse_merged_df[mouse_mask].iloc[:, 0].to_frame('label').reset_index()\n",
    ")\n",
    "print(mouse_df.shape)\n",
    "mouse_df['label'].value_counts()"
   ]
  },
  {
   "cell_type": "code",
   "execution_count": 18,
   "metadata": {},
   "outputs": [
    {
     "data": {
      "text/html": [
       "<div>\n",
       "<style scoped>\n",
       "    .dataframe tbody tr th:only-of-type {\n",
       "        vertical-align: middle;\n",
       "    }\n",
       "\n",
       "    .dataframe tbody tr th {\n",
       "        vertical-align: top;\n",
       "    }\n",
       "\n",
       "    .dataframe thead th {\n",
       "        text-align: right;\n",
       "    }\n",
       "</style>\n",
       "<table border=\"1\" class=\"dataframe\">\n",
       "  <thead>\n",
       "    <tr style=\"text-align: right;\">\n",
       "      <th></th>\n",
       "      <th>gene_id</th>\n",
       "      <th>label</th>\n",
       "    </tr>\n",
       "  </thead>\n",
       "  <tbody>\n",
       "    <tr>\n",
       "      <th>0</th>\n",
       "      <td>LOC118567656</td>\n",
       "      <td>nd</td>\n",
       "    </tr>\n",
       "    <tr>\n",
       "      <th>1</th>\n",
       "      <td>Rgs20</td>\n",
       "      <td>up</td>\n",
       "    </tr>\n",
       "    <tr>\n",
       "      <th>2</th>\n",
       "      <td>Gm26901</td>\n",
       "      <td>up</td>\n",
       "    </tr>\n",
       "    <tr>\n",
       "      <th>3</th>\n",
       "      <td>Sntg1</td>\n",
       "      <td>up</td>\n",
       "    </tr>\n",
       "    <tr>\n",
       "      <th>4</th>\n",
       "      <td>Adhfe1</td>\n",
       "      <td>nd</td>\n",
       "    </tr>\n",
       "    <tr>\n",
       "      <th>...</th>\n",
       "      <td>...</td>\n",
       "      <td>...</td>\n",
       "    </tr>\n",
       "    <tr>\n",
       "      <th>3676</th>\n",
       "      <td>LOC108168645</td>\n",
       "      <td>up</td>\n",
       "    </tr>\n",
       "    <tr>\n",
       "      <th>3677</th>\n",
       "      <td>TrnL1</td>\n",
       "      <td>nd</td>\n",
       "    </tr>\n",
       "    <tr>\n",
       "      <th>3678</th>\n",
       "      <td>ND2</td>\n",
       "      <td>nd</td>\n",
       "    </tr>\n",
       "    <tr>\n",
       "      <th>3679</th>\n",
       "      <td>TrnW</td>\n",
       "      <td>nd</td>\n",
       "    </tr>\n",
       "    <tr>\n",
       "      <th>3680</th>\n",
       "      <td>TrnP</td>\n",
       "      <td>nd</td>\n",
       "    </tr>\n",
       "  </tbody>\n",
       "</table>\n",
       "<p>3681 rows × 2 columns</p>\n",
       "</div>"
      ],
      "text/plain": [
       "           gene_id label\n",
       "0     LOC118567656    nd\n",
       "1            Rgs20    up\n",
       "2          Gm26901    up\n",
       "3            Sntg1    up\n",
       "4           Adhfe1    nd\n",
       "...            ...   ...\n",
       "3676  LOC108168645    up\n",
       "3677         TrnL1    nd\n",
       "3678           ND2    nd\n",
       "3679          TrnW    nd\n",
       "3680          TrnP    nd\n",
       "\n",
       "[3681 rows x 2 columns]"
      ]
     },
     "execution_count": 18,
     "metadata": {},
     "output_type": "execute_result"
    }
   ],
   "source": [
    "mouse_df"
   ]
  },
  {
   "cell_type": "code",
   "execution_count": 13,
   "metadata": {},
   "outputs": [],
   "source": [
    "# mouse_df.to_csv('../genomes/hosts/GCF_000001635.27/genes/gene_ids.csv', index=False)"
   ]
  },
  {
   "attachments": {},
   "cell_type": "markdown",
   "metadata": {},
   "source": [
    "## Fish"
   ]
  },
  {
   "cell_type": "code",
   "execution_count": null,
   "metadata": {},
   "outputs": [
    {
     "data": {
      "text/html": [
       "<div>\n",
       "<style scoped>\n",
       "    .dataframe tbody tr th:only-of-type {\n",
       "        vertical-align: middle;\n",
       "    }\n",
       "\n",
       "    .dataframe tbody tr th {\n",
       "        vertical-align: top;\n",
       "    }\n",
       "\n",
       "    .dataframe thead th {\n",
       "        text-align: right;\n",
       "    }\n",
       "</style>\n",
       "<table border=\"1\" class=\"dataframe\">\n",
       "  <thead>\n",
       "    <tr style=\"text-align: right;\">\n",
       "      <th></th>\n",
       "      <th>gene_id</th>\n",
       "      <th>label</th>\n",
       "    </tr>\n",
       "  </thead>\n",
       "  <tbody>\n",
       "    <tr>\n",
       "      <th>0</th>\n",
       "      <td>khdc4</td>\n",
       "      <td>nd</td>\n",
       "    </tr>\n",
       "    <tr>\n",
       "      <th>1</th>\n",
       "      <td>LOC108262683</td>\n",
       "      <td>nd</td>\n",
       "    </tr>\n",
       "    <tr>\n",
       "      <th>2</th>\n",
       "      <td>LOC108263488</td>\n",
       "      <td>nd</td>\n",
       "    </tr>\n",
       "    <tr>\n",
       "      <th>3</th>\n",
       "      <td>LOC124628267</td>\n",
       "      <td>nd</td>\n",
       "    </tr>\n",
       "    <tr>\n",
       "      <th>4</th>\n",
       "      <td>clk2b</td>\n",
       "      <td>down</td>\n",
       "    </tr>\n",
       "  </tbody>\n",
       "</table>\n",
       "</div>"
      ],
      "text/plain": [
       "        gene_id label\n",
       "0         khdc4    nd\n",
       "1  LOC108262683    nd\n",
       "2  LOC108263488    nd\n",
       "3  LOC124628267    nd\n",
       "4         clk2b  down"
      ]
     },
     "metadata": {},
     "output_type": "display_data"
    }
   ],
   "source": [
    "fish_df = pd.read_csv('../count_tables/experiment2/host.csv').iloc[:, [0, 7]]\n",
    "fish_df.columns = ['gene_id', 'label']\n",
    "fish_df.head()"
   ]
  },
  {
   "cell_type": "code",
   "execution_count": null,
   "metadata": {},
   "outputs": [],
   "source": [
    "# fish_df.to_csv('../genomes/hosts/GCF_001660625.2/genes/gene_ids.csv', index=False)"
   ]
  },
  {
   "attachments": {},
   "cell_type": "markdown",
   "metadata": {},
   "source": [
    "## Monkey"
   ]
  },
  {
   "cell_type": "code",
   "execution_count": 7,
   "metadata": {},
   "outputs": [
    {
     "data": {
      "text/html": [
       "<div>\n",
       "<style scoped>\n",
       "    .dataframe tbody tr th:only-of-type {\n",
       "        vertical-align: middle;\n",
       "    }\n",
       "\n",
       "    .dataframe tbody tr th {\n",
       "        vertical-align: top;\n",
       "    }\n",
       "\n",
       "    .dataframe thead th {\n",
       "        text-align: right;\n",
       "    }\n",
       "</style>\n",
       "<table border=\"1\" class=\"dataframe\">\n",
       "  <thead>\n",
       "    <tr style=\"text-align: right;\">\n",
       "      <th></th>\n",
       "      <th>gene_id</th>\n",
       "      <th>label</th>\n",
       "    </tr>\n",
       "  </thead>\n",
       "  <tbody>\n",
       "    <tr>\n",
       "      <th>0</th>\n",
       "      <td>LOC102116409</td>\n",
       "      <td>nd</td>\n",
       "    </tr>\n",
       "    <tr>\n",
       "      <th>1</th>\n",
       "      <td>LOC123572833</td>\n",
       "      <td>nd</td>\n",
       "    </tr>\n",
       "    <tr>\n",
       "      <th>2</th>\n",
       "      <td>PGBD2</td>\n",
       "      <td>nd</td>\n",
       "    </tr>\n",
       "    <tr>\n",
       "      <th>3</th>\n",
       "      <td>ZNF672</td>\n",
       "      <td>nd</td>\n",
       "    </tr>\n",
       "    <tr>\n",
       "      <th>4</th>\n",
       "      <td>LYPD8</td>\n",
       "      <td>up</td>\n",
       "    </tr>\n",
       "  </tbody>\n",
       "</table>\n",
       "</div>"
      ],
      "text/plain": [
       "        gene_id label\n",
       "0  LOC102116409    nd\n",
       "1  LOC123572833    nd\n",
       "2         PGBD2    nd\n",
       "3        ZNF672    nd\n",
       "4         LYPD8    up"
      ]
     },
     "execution_count": 7,
     "metadata": {},
     "output_type": "execute_result"
    }
   ],
   "source": [
    "monkey_df = pd.read_csv('../count_tables/experiment3/host.csv').iloc[:, [0, 7]]\n",
    "monkey_df.columns = ['gene_id', 'label']\n",
    "monkey_df.head()"
   ]
  },
  {
   "cell_type": "code",
   "execution_count": 6,
   "metadata": {},
   "outputs": [],
   "source": [
    "# monkey_df.to_csv('../genomes/hosts/GCF_012559485.2/genes/gene_ids.csv', index=False)"
   ]
  },
  {
   "attachments": {},
   "cell_type": "markdown",
   "metadata": {},
   "source": [
    "## Pathogen"
   ]
  },
  {
   "cell_type": "code",
   "execution_count": 18,
   "metadata": {},
   "outputs": [],
   "source": [
    "pathogen1_df = pd.read_csv('../count_tables/experiment1/pathogen.csv')[['Unnamed: 0', 'log2FoldChange']]\n",
    "pathogen1_df.columns = ['gene_id', 'label']\n",
    "pathogen1_df.to_csv('../genomes/pathogens/GCF_000010505.1/genes/gene_ids.csv', index=False)"
   ]
  },
  {
   "cell_type": "code",
   "execution_count": 19,
   "metadata": {},
   "outputs": [],
   "source": [
    "pathogen2_df = pd.read_csv('../count_tables/experiment2/pathogen.csv')[['Unnamed: 0', 'log2FoldChange']]\n",
    "pathogen2_df.columns = ['gene_id', 'label']\n",
    "pathogen2_df.to_csv('../genomes/pathogens/GCF_017498685.1/genes/gene_ids.csv', index=False)"
   ]
  },
  {
   "cell_type": "code",
   "execution_count": 20,
   "metadata": {},
   "outputs": [],
   "source": [
    "pathogen3_df = pd.read_csv('../count_tables/experiment3/pathogen.csv')[['Unnamed: 0', 'log2FoldChange']]\n",
    "pathogen3_df.columns = ['gene_id', 'label']\n",
    "pathogen3_df.to_csv('../genomes/pathogens/GCF_012572265.1/genes/gene_ids.csv', index=False)"
   ]
  },
  {
   "cell_type": "code",
   "execution_count": 21,
   "metadata": {},
   "outputs": [],
   "source": [
    "pathogen4_df = pd.read_csv('../count_tables/experiment4/pathogen.csv')[['Unnamed: 0', 'log2FoldChange']]\n",
    "pathogen4_df.columns = ['gene_id', 'label']\n",
    "pathogen4_df.to_csv('../genomes/pathogens/GCF_000195955.2/genes/gene_ids.csv', index=False)"
   ]
  },
  {
   "cell_type": "code",
   "execution_count": 22,
   "metadata": {},
   "outputs": [],
   "source": [
    "pathogen5_df = pd.read_csv('../count_tables/experiment5/pathogen.csv')[['Unnamed: 0', 'log2FoldChange']]\n",
    "pathogen5_df.columns = ['gene_id', 'label']\n",
    "pathogen5_df.to_csv('../genomes/pathogens/GCF_004327565.1/genes/gene_ids.csv', index=False)"
   ]
  },
  {
   "cell_type": "code",
   "execution_count": 23,
   "metadata": {},
   "outputs": [],
   "source": [
    "pathogen6_df = pd.read_csv('../count_tables/experiment6/pathogen.csv')[['Unnamed: 0', 'log2FoldChange']]\n",
    "pathogen6_df.columns = ['gene_id', 'label']\n",
    "pathogen6_df.to_csv('../genomes/pathogens/GCF_000195715.1/genes/gene_ids.csv', index=False)"
   ]
  },
  {
   "cell_type": "code",
   "execution_count": 24,
   "metadata": {},
   "outputs": [],
   "source": [
    "pathogen7_df = pd.read_csv('../count_tables/experiment7/pathogen.csv')[['Unnamed: 0', 'log2FoldChange']]\n",
    "pathogen7_df.columns = ['gene_id', 'label']\n",
    "pathogen7_df.to_csv('../genomes/pathogens/GCF_000194035.1/genes/gene_ids.csv', index=False)"
   ]
  },
  {
   "cell_type": "code",
   "execution_count": 26,
   "metadata": {},
   "outputs": [],
   "source": [
    "pathogen8_df = pd.read_csv('../count_tables/experiment8/pathogen.csv')[['Unnamed: 0', 'log2FoldChange']]\n",
    "pathogen8_df.columns = ['gene_id', 'label']\n",
    "pathogen8_df.to_csv('../genomes/pathogens/GCF_000006765.1/genes/gene_ids.csv', index=False)"
   ]
  },
  {
   "cell_type": "code",
   "execution_count": 27,
   "metadata": {},
   "outputs": [],
   "source": [
    "pathogen9_df = pd.read_csv('../count_tables/experiment9/pathogen.csv')[['Unnamed: 0', 'log2FoldChange']]\n",
    "pathogen9_df.columns = ['gene_id', 'label']\n",
    "pathogen9_df.to_csv('../genomes/pathogens/GCF_000013425.1/genes/gene_ids.csv', index=False)"
   ]
  },
  {
   "cell_type": "code",
   "execution_count": null,
   "metadata": {},
   "outputs": [],
   "source": []
  }
 ],
 "metadata": {
  "kernelspec": {
   "display_name": "Python 3 (ipykernel)",
   "language": "python",
   "name": "python3"
  },
  "language_info": {
   "codemirror_mode": {
    "name": "ipython",
    "version": 3
   },
   "file_extension": ".py",
   "mimetype": "text/x-python",
   "name": "python",
   "nbconvert_exporter": "python",
   "pygments_lexer": "ipython3",
   "version": "3.10.2"
  }
 },
 "nbformat": 4,
 "nbformat_minor": 4
}

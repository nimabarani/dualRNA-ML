{
 "cells": [
  {
   "cell_type": "code",
   "execution_count": null,
   "metadata": {},
   "outputs": [],
   "source": [
    "../env/bin/activate"
   ]
  },
  {
   "cell_type": "code",
   "execution_count": 2,
   "metadata": {},
   "outputs": [
    {
     "ename": "ModuleNotFoundError",
     "evalue": "No module named 'pandas'",
     "output_type": "error",
     "traceback": [
      "\u001b[0;31m---------------------------------------------------------------------------\u001b[0m",
      "\u001b[0;31mModuleNotFoundError\u001b[0m                       Traceback (most recent call last)",
      "\u001b[0;32m/tmp/ipykernel_185249/2982519028.py\u001b[0m in \u001b[0;36m<module>\u001b[0;34m\u001b[0m\n\u001b[1;32m      1\u001b[0m \u001b[0;32mimport\u001b[0m \u001b[0mos\u001b[0m\u001b[0;34m\u001b[0m\u001b[0;34m\u001b[0m\u001b[0m\n\u001b[1;32m      2\u001b[0m \u001b[0;32mimport\u001b[0m \u001b[0mitertools\u001b[0m\u001b[0;34m\u001b[0m\u001b[0;34m\u001b[0m\u001b[0m\n\u001b[0;32m----> 3\u001b[0;31m \u001b[0;32mimport\u001b[0m \u001b[0mpandas\u001b[0m \u001b[0;32mas\u001b[0m \u001b[0mpd\u001b[0m\u001b[0;34m\u001b[0m\u001b[0;34m\u001b[0m\u001b[0m\n\u001b[0m\u001b[1;32m      4\u001b[0m \u001b[0;32mfrom\u001b[0m \u001b[0mskbio\u001b[0m \u001b[0;32mimport\u001b[0m \u001b[0mSequence\u001b[0m\u001b[0;34m\u001b[0m\u001b[0;34m\u001b[0m\u001b[0m\n\u001b[1;32m      5\u001b[0m \u001b[0;32mfrom\u001b[0m \u001b[0mskbio\u001b[0m \u001b[0;32mimport\u001b[0m \u001b[0mDNA\u001b[0m\u001b[0;34m\u001b[0m\u001b[0;34m\u001b[0m\u001b[0m\n",
      "\u001b[0;31mModuleNotFoundError\u001b[0m: No module named 'pandas'"
     ]
    }
   ],
   "source": [
    "import os\n",
    "import itertools\n",
    "import pandas as pd\n",
    "from skbio import Sequence\n",
    "from skbio import DNA"
   ]
  },
  {
   "cell_type": "code",
   "execution_count": null,
   "metadata": {},
   "outputs": [],
   "source": [
    "def createTetranucleotideRC_features():\n",
    "    featureTable = pd.read_csv('Featuretable.tsv', \"\\t\")\n",
    "    Sequences = pd.read_csv('sequences.txt', header=None, sep=\"\\t\")\n",
    "    Sequences.iloc[:,0] = Sequences.iloc[:,0].str.split(\"(\",expand=True).iloc[:,0]\n",
    "    # Number of sequences\n",
    "    rowsCount = Sequences.shape[0]\n",
    "    # Number of Nucleotide\n",
    "    NucleotideNum = 4\n",
    "    # Appending NucleotidesColumn(new features) and initialize with zeros\n",
    "    iter = itertools.product('ACGT', repeat=NucleotideNum)\n",
    "    iterJoin = []\n",
    "    for i in iter:\n",
    "        colLable = \"\".join(i)\n",
    "        iterJoin.append(colLable)\n",
    "        colValues_zeros = [0]*rowsCount\n",
    "        featureTable[colLable] = colValues_zeros\n",
    "    # Filling NucleotidesColumn with their frequency for each sequence\n",
    "    for idIndex in range(rowsCount):\n",
    "        id = Sequences.iloc[idIndex,0]\n",
    "        seq = Sequences.iloc[idIndex,1]\n",
    "        s = Sequence(seq)\n",
    "        freqs = s.kmer_frequencies(NucleotideNum, relative=True, overlap=True)\n",
    "        for nucleotide in freqs:\n",
    "            if nucleotide in iterJoin :\n",
    "                featureTable.loc[id , nucleotide] = freqs[nucleotide]\n",
    "                \n",
    "                \n",
    "    ###### Creating Reverse Complement Features ######\n",
    "    # Extracting Tetranucleotides' name\n",
    "    featuresName = [ x for x in featureTable.keys()[7:]]\n",
    "    # Calculating new features based on tetraNucleotides & their reverse complement\n",
    "    while len(featuresName)>0 : \n",
    "        tetraNucleotideName = featuresName[0]\n",
    "        seq = DNA(tetraNucleotideName)\n",
    "        tetraNucleotide_ReverseComp = str(seq.reverse_complement())\n",
    "        if(tetraNucleotide_ReverseComp == tetraNucleotideName):\n",
    "            featureTable[f'{tetraNucleotideName}/{tetraNucleotide_ReverseComp}'] = featureTable[tetraNucleotideName]\n",
    "        else:\n",
    "            featureTable[f'{tetraNucleotideName}/{tetraNucleotide_ReverseComp}'] = featureTable[tetraNucleotideName] + featureTable[tetraNucleotide_ReverseComp]\n",
    "            featureTable.drop(tetraNucleotide_ReverseComp, axis=1, inplace=True)\n",
    "            featuresName.remove(tetraNucleotide_ReverseComp)\n",
    "        featureTable.drop(tetraNucleotideName, axis=1, inplace=True)\n",
    "        featuresName.remove(tetraNucleotideName)   \n",
    "    featureTable.to_csv(\"featureTableNew.tsv\", sep=\"\\t\")"
   ]
  },
  {
   "cell_type": "code",
   "execution_count": null,
   "metadata": {},
   "outputs": [],
   "source": []
  }
 ],
 "metadata": {
  "kernelspec": {
   "display_name": "Python 3.9",
   "language": "python",
   "name": "python3"
  },
  "language_info": {
   "codemirror_mode": {
    "name": "ipython",
    "version": 3
   },
   "file_extension": ".py",
   "mimetype": "text/x-python",
   "name": "python",
   "nbconvert_exporter": "python",
   "pygments_lexer": "ipython3",
   "version": "3.9.6"
  }
 },
 "nbformat": 4,
 "nbformat_minor": 4
}
